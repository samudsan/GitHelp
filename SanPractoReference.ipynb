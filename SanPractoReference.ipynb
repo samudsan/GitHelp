{
 "cells": [
  {
   "cell_type": "markdown",
   "metadata": {},
   "source": [
    "# Git or GitHub reference"
   ]
  },
  {
   "cell_type": "markdown",
   "metadata": {},
   "source": [
    "**sudo apt install git** : To install Git in unix\n",
    "\n",
    "**git init** : Intializing git in current directory \n",
    "\n",
    "**git ls-files** : listing file available in current directory of git\n",
    "\n",
    "**git add** : Adds the file to your local repository and stages it for commit. To unstage a file, use 'git reset HEAD YOUR-FILE'.\n",
    "\n",
    "**To add git local repository into github profile** : \n",
    "\n",
    "1. **git remote add origin https://github.com/samudsan/Machine-Learning**\n",
    "2. if remote is already exist you can simply set it like below \n",
    "3. git remote set-url origin https://github.com/samudsan/Machine-Learning\n",
    "4. git push -u origin master\n",
    "\n",
    "**for pulling/downloading remote repository to local machine** : \n",
    "1. **git init**: we need to initialize directory where we want to closed repository\n",
    "2. **git pull https://github.com/samudsan/MachineLearning.git** : we need to mention URL to pull\n",
    "\n"
   ]
  }
 ],
 "metadata": {
  "kernelspec": {
   "display_name": "Python 3",
   "language": "python",
   "name": "python3"
  },
  "language_info": {
   "codemirror_mode": {
    "name": "ipython",
    "version": 3
   },
   "file_extension": ".py",
   "mimetype": "text/x-python",
   "name": "python",
   "nbconvert_exporter": "python",
   "pygments_lexer": "ipython3",
   "version": "3.6.5"
  },
  "varInspector": {
   "cols": {
    "lenName": 16,
    "lenType": 16,
    "lenVar": 40
   },
   "kernels_config": {
    "python": {
     "delete_cmd_postfix": "",
     "delete_cmd_prefix": "del ",
     "library": "var_list.py",
     "varRefreshCmd": "print(var_dic_list())"
    },
    "r": {
     "delete_cmd_postfix": ") ",
     "delete_cmd_prefix": "rm(",
     "library": "var_list.r",
     "varRefreshCmd": "cat(var_dic_list()) "
    }
   },
   "types_to_exclude": [
    "module",
    "function",
    "builtin_function_or_method",
    "instance",
    "_Feature"
   ],
   "window_display": false
  }
 },
 "nbformat": 4,
 "nbformat_minor": 2
}
