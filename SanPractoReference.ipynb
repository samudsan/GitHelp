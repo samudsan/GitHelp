{
 "cells": [
  {
   "cell_type": "markdown",
   "metadata": {},
   "source": [
    "# Git or GitHub reference"
   ]
  },
  {
   "cell_type": "markdown",
   "metadata": {},
   "source": [
    "`sudo apt install git` : To install Git in unix\n",
    "\n",
    "`git init` : Intializing git in current directory \n",
    "\n",
    "`git add .` Adds the files in the local repository and stages them for commit. To unstage a file, use 'git reset HEAD YOUR-FILE'.\n",
    "\n",
    "`git ls-files` : listing file available in current directory of git\n",
    "\n",
    "`git add` : Adds the file to your local repository and stages it for commit. To unstage a file, use 'git reset HEAD YOUR-FILE'.\n",
    "\n",
    "`git clone UrlOfGithub` : for cloning the github mentioned URL reposiosity  to local machine\n",
    "\n",
    "`git clean -n`: to know the file that we are going to delete.\n",
    "`git clean -f`: to remove unstaged files.\n",
    "\n",
    "**Error: Your branch is ahead of 'origin/master' by 3 commits.**\n",
    ">`git reset --hard origin/master`: If your local changes are bad then just remove them or reset your local master to the state on remote\n",
    "\n",
    "**setting Username and password**\n",
    "1. `git config --global user.name \"your username\"`\n",
    "2. `git config --global user.password \"your password\"`\n",
    "\n",
    "\n",
    "**steps for pulling repository from github, changing file and pushing again to github** \n",
    ">1. `git init` : for initializing git in a local directory\n",
    "2. set user name and password if not set earlier**\n",
    "    * `git config --global user.name \"your username\"`\n",
    "    * `git config --global user.password \"your password\"`\n",
    "3. pull remote repository to local machine\n",
    "    * `git pull https://github.com/samudsan/MachineLearning.git`\n",
    "4. check curent status\n",
    "    * `git status`\n",
    "5. committing final changes in local repository.\n",
    "    * `git commit -u -m \"description of what change has made(-u for update all)\"`\n",
    "6. set remote location if not set\n",
    "    * `git remote add origin https://github.com/samudsan/Machine-Learning`\n",
    "    * if remote is already exist you can simply set it like below \n",
    "    * `git remote set-url origin https://github.com/samudsan/Machine-Learning`\n",
    "    * `git push -u origin master`\n",
    "\n",
    "**removing cached directory/file from remote repository.**\n",
    "`git rm -r --cached  directory_name`\n",
    "`git rm -r --cached  filename`\n",
    "\n",
    "**removing File/Dir which is newly created and its status still showing as untracked file when using.**\n",
    "STEP 2: If Case 1 is over then create new file named `.gitignore` in your git repo\n",
    "\n",
    "STEP 3: Use following to tell git to ignore / assume file is unchanged\n",
    "\n",
    "`git update-index --assume-unchanged path/to/file.txt`\n",
    "\n",
    "STEP 4: Now, check status using git status open .gitignore in your editor nano, vim, geany etc... any one, add the path of the file / folder to ignore. If it is a folder then user folder_name/* to ignore all file.\n",
    "\n",
    "\n"
   ]
  }
 ],
 "metadata": {
  "kernelspec": {
   "display_name": "Python 3",
   "language": "python",
   "name": "python3"
  },
  "language_info": {
   "codemirror_mode": {
    "name": "ipython",
    "version": 3
   },
   "file_extension": ".py",
   "mimetype": "text/x-python",
   "name": "python",
   "nbconvert_exporter": "python",
   "pygments_lexer": "ipython3",
   "version": "3.8.0"
  },
  "varInspector": {
   "cols": {
    "lenName": 16,
    "lenType": 16,
    "lenVar": 40
   },
   "kernels_config": {
    "python": {
     "delete_cmd_postfix": "",
     "delete_cmd_prefix": "del ",
     "library": "var_list.py",
     "varRefreshCmd": "print(var_dic_list())"
    },
    "r": {
     "delete_cmd_postfix": ") ",
     "delete_cmd_prefix": "rm(",
     "library": "var_list.r",
     "varRefreshCmd": "cat(var_dic_list()) "
    }
   },
   "types_to_exclude": [
    "module",
    "function",
    "builtin_function_or_method",
    "instance",
    "_Feature"
   ],
   "window_display": false
  }
 },
 "nbformat": 4,
 "nbformat_minor": 2
}
